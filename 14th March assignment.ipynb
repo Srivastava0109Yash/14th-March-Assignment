{
 "cells": [
  {
   "cell_type": "markdown",
   "id": "a066ef8b",
   "metadata": {},
   "source": [
    "### Q1. Write a Python function that takes in two arrays of data and calculates the F-value for a variance ratio test. The function should return the F-value and the corresponding p-value for the test."
   ]
  },
  {
   "cell_type": "code",
   "execution_count": 1,
   "id": "6e2b0a5b",
   "metadata": {},
   "outputs": [],
   "source": [
    "import numpy as np\n",
    "from scipy.stats import f_oneway\n",
    "\n",
    "def variance_ratio_test(data1, data2):\n",
    "    # Calculate the variance of each dataset\n",
    "    var1=np.var(data1)\n",
    "    var2=np.var(data2)\n",
    "\n",
    "    # Calculate the F-value\n",
    "    F=var1/var2\n",
    "\n",
    "    # Calculate the degrees of freedom\n",
    "    df1=len(data1)- 1\n",
    "    df2=len(data2)- 1\n",
    "\n",
    "    # Calculate the p-value using the F-distribution\n",
    "    p=f_oneway(data1, data2)[1]\n",
    "\n",
    "    return F, p\n"
   ]
  },
  {
   "cell_type": "code",
   "execution_count": 2,
   "id": "46d1ef29",
   "metadata": {},
   "outputs": [
    {
     "name": "stdout",
     "output_type": "stream",
     "text": [
      "F-value: 1.0\n",
      "p-value: 0.0010528257933665396\n"
     ]
    }
   ],
   "source": [
    "d1=[1,2,3,4,5]\n",
    "d2=[6,7,8,9,10]\n",
    "\n",
    "F,p=variance_ratio_test(d1,d2)\n",
    "\n",
    "print(\"F-value:\", F)\n",
    "print(\"p-value:\",p)"
   ]
  },
  {
   "cell_type": "code",
   "execution_count": null,
   "id": "8e99a631",
   "metadata": {},
   "outputs": [],
   "source": []
  },
  {
   "cell_type": "markdown",
   "id": "dc58f2bd",
   "metadata": {},
   "source": [
    "### Q2. Given a significance level of 0.05 and the degrees of freedom for the numerator and denominator of an F-distribution, write aPython function that returns the critical F-value for a two-tailed test."
   ]
  },
  {
   "cell_type": "code",
   "execution_count": 3,
   "id": "5f8a62df",
   "metadata": {},
   "outputs": [],
   "source": [
    "from scipy.stats import f as fdist\n",
    "\n",
    "def critical_f_value(df1, df2, alpha=0.05):\n",
    "    # Calculate the critical F-value\n",
    "    F_crit=fdist.ppf(1 - alpha/2, df1, df2)\n",
    "\n",
    "    return F_crit"
   ]
  },
  {
   "cell_type": "code",
   "execution_count": 4,
   "id": "587df3e3",
   "metadata": {},
   "outputs": [
    {
     "name": "stdout",
     "output_type": "stream",
     "text": [
      "Critical F-value: 4.236085668188633\n"
     ]
    }
   ],
   "source": [
    "df1=5\n",
    "df2=10\n",
    "alpha=0.05\n",
    "\n",
    "F_crit = critical_f_value(df1, df2, alpha)\n",
    "\n",
    "print(\"Critical F-value:\", F_crit)"
   ]
  },
  {
   "cell_type": "code",
   "execution_count": null,
   "id": "681f84a7",
   "metadata": {},
   "outputs": [],
   "source": []
  },
  {
   "cell_type": "markdown",
   "id": "dda949e8",
   "metadata": {},
   "source": [
    "### Q3. Write a Python program that generates random samples from two normal distributions with knownvariances and uses an F-test to determine if the variances are equal. The program should output the F-value, degrees of freedom, and p-value for the test."
   ]
  },
  {
   "cell_type": "code",
   "execution_count": 6,
   "id": "32689bcb",
   "metadata": {},
   "outputs": [],
   "source": [
    "import numpy as np\n",
    "from scipy.stats import f as fdist\n",
    "\n",
    "# Set the random seed for reproducibility\n",
    "np.random.seed(123)\n",
    "\n",
    "mu1=0\n",
    "mu2=0\n",
    "var1=1\n",
    "var2=1.5\n",
    "\n",
    "# Generate random samples from the two distributions\n",
    "n1=30\n",
    "n2=40\n",
    "\n",
    "sam1=np.random.normal(mu1,np.sqrt(var1),n1)\n",
    "sam2=np.random.normal(mu2,np.sqrt(var2),n2)\n",
    "\n",
    "# f-value\n",
    "F= var1/var2\n",
    "\n",
    "df1=n1-1\n",
    "df2=n2-1\n",
    "\n",
    "# Calculate the p-value using the F-distribution\n",
    "p=fdist.sf(F, df1, df2) * 2"
   ]
  },
  {
   "cell_type": "code",
   "execution_count": 8,
   "id": "2c0b6e20",
   "metadata": {},
   "outputs": [
    {
     "name": "stdout",
     "output_type": "stream",
     "text": [
      "Sample 1 mean: 0.044713970961870526\n",
      "Sample 1 variance: 1.3624637354821543\n",
      "Sample 2 mean: 0.13144190005011008\n",
      "Sample 2 variance: 1.9305930360248122\n",
      "F-value: 0.6666666666666666\n",
      "Degrees of freedom: 29 , 39\n",
      "p-value: 1.7408843863362626\n"
     ]
    }
   ],
   "source": [
    "print(\"Sample 1 mean:\", np.mean(sam1))\n",
    "print(\"Sample 1 variance:\", np.var(sam1))\n",
    "print(\"Sample 2 mean:\", np.mean(sam2))\n",
    "print(\"Sample 2 variance:\", np.var(sam2))\n",
    "print(\"F-value:\", F)\n",
    "print(\"Degrees of freedom:\", df1, \",\", df2)\n",
    "print(\"p-value:\", p)"
   ]
  },
  {
   "cell_type": "code",
   "execution_count": null,
   "id": "2f864068",
   "metadata": {},
   "outputs": [],
   "source": []
  },
  {
   "cell_type": "markdown",
   "id": "d69453b4",
   "metadata": {},
   "source": [
    "### Q4.The variances of two populations are known to be 10 and 15. A sample of 12 observations is taken from each population. Conduct an F-test at the 5% significance level to determine if the variances are significantly different."
   ]
  },
  {
   "cell_type": "markdown",
   "id": "d432b610",
   "metadata": {},
   "source": [
    "The null hypothesis is that the variances are equal, and the alternative hypothesis is that they are not equal. We can conduct an F-test using the ratio of the sample variances, where the larger variance is in the numerator. If the F-statistic is larger than the critical F-value at the chosen significance level, we reject the null hypothesis and conclude that the variances are significantly different.\n",
    "\n",
    "Here are the steps to conduct an F-test for this problem:\n",
    "\n",
    "Define the null and alternative hypotheses:\n",
    "\n",
    "H0: σ1^2 = σ2^2\n",
    "Ha: σ1^2 ≠ σ2^2\n",
    "\n",
    "Choose the level of significance, α. In this case, α = 0.05.\n",
    "\n",
    "Find the critical F-value using the F-distribution table or a calculator. The degrees of freedom for the numerator and denominator are 11 and 11, respectively (n1 - 1 = 12 - 1 = 11, n2 - 1 = 12 - 1 = 11). From the table or a calculator, the critical F-value for a two-tailed test with α = 0.05 and df1 = 11 and df2 = 11 is 3.11.\n",
    "\n",
    "Compute the test statistic. The larger variance is in the numerator, so we calculate F as:\n",
    "\n",
    "F = s1^2 / s2^2\n",
    "\n",
    "where s1^2 is the sample variance of the first population, s2^2 is the sample variance of the second population, and F is the F-statistic.\n",
    "\n",
    "Given that the variances of the two populations are known to be 10 and 15, we can calculate the sample variances as:\n",
    "\n",
    "s1^2 = 10, s2^2 = 15\n",
    "\n",
    "Therefore, the F-statistic is:\n",
    "\n",
    "F = s1^2 / s2^2 = 10 / 15 = 0.67\n",
    "\n",
    "Compare the test statistic to the critical F-value. If the test statistic is greater than the critical F-value, reject the null hypothesis. Otherwise, do not reject the null hypothesis.\n",
    "\n",
    "In this case, the F-statistic is less than the critical F-value of 3.11, so we do not reject the null hypothesis. We conclude that there is not enough evidence to suggest that the variances are significantly different at the 5% significance level."
   ]
  },
  {
   "cell_type": "code",
   "execution_count": null,
   "id": "c39468ce",
   "metadata": {},
   "outputs": [],
   "source": []
  },
  {
   "cell_type": "markdown",
   "id": "461b10fe",
   "metadata": {},
   "source": [
    "### Q5. A manufacturer claims that the variance of the diameter of a certain product is 0.005. A sample of 25 products is taken, and the sample variance is found to be 0.006. Conduct an F-test at the 1% significance level to determine if the claim is justified."
   ]
  },
  {
   "cell_type": "markdown",
   "id": "264ae76b",
   "metadata": {},
   "source": [
    "The null hypothesis is that the variance of the diameter of the product is equal to 0.005, and the alternative hypothesis is that it is greater than 0.005. We can conduct an F-test using the ratio of the sample variance to the population variance. If the F-statistic is larger than the critical F-value at the chosen significance level, we reject the null hypothesis and conclude that the claim is not justified.\n",
    "\n",
    "Here are the steps to conduct an F-test for this problem:\n",
    "\n",
    "Define the null and alternative hypotheses:\n",
    "\n",
    "H0: σ^2 = 0.005\n",
    "Ha: σ^2 > 0.005\n",
    "\n",
    "Choose the level of significance, α. In this case, α = 0.01.\n",
    "\n",
    "Find the critical F-value using the F-distribution table or a calculator. The degrees of freedom for the numerator and denominator are 24 and 1, respectively (n - 1 = 25 - 1 = 24, k = 1). From the table or a calculator, the critical F-value for a one-tailed test with α = 0.01 and df1 = 24 and df2 = 1 is 6.60.\n",
    "\n",
    "Compute the test statistic. We calculate F as:\n",
    "\n",
    "F = s^2 / σ^2\n",
    "\n",
    "where s^2 is the sample variance and σ^2 is the population variance.\n",
    "\n",
    "Given that the population variance is claimed to be 0.005 and the sample variance is 0.006, we can calculate the F-statistic as:\n",
    "\n",
    "F = s^2 / σ^2 = 0.006 / 0.005 = 1.20\n",
    "\n",
    "Compare the test statistic to the critical F-value. If the test statistic is greater than the critical F-value, reject the null hypothesis. Otherwise, do not reject the null hypothesis.\n",
    "\n",
    "In this case, the F-statistic is less than the critical F-value of 6.60, so we do not reject the null hypothesis. We conclude that there is not enough evidence to suggest that the variance of the diameter of the product is greater than 0.005 at the 1% significance level."
   ]
  },
  {
   "cell_type": "code",
   "execution_count": null,
   "id": "6788d73a",
   "metadata": {},
   "outputs": [],
   "source": []
  },
  {
   "cell_type": "markdown",
   "id": "a46e31f0",
   "metadata": {},
   "source": [
    "### Q6. Write a Python function that takes in the degrees of freedom for the numerator and denominator of an F-distribution and calculates the mean and variance of the distribution. The function should return the mean and variance as a tuple."
   ]
  },
  {
   "cell_type": "code",
   "execution_count": 9,
   "id": "01d12642",
   "metadata": {},
   "outputs": [],
   "source": [
    "def f_distribution_mean_var(df1, df2):\n",
    "    \n",
    "    # Calculate the mean and variance of the F-distribution\n",
    "    if df2 > 2:\n",
    "        mean = df2 / (df2 - 2)\n",
    "        var = (2 * df2**2 * (df1+df2-2)) / (df1*(df2-2)** 2 * (df2 - 4))\n",
    "    else:\n",
    "        mean = float('nan')\n",
    "        var = float('nan')\n",
    "    \n",
    "    # Return the mean and variance as a tuple\n",
    "    return mean, var"
   ]
  },
  {
   "cell_type": "code",
   "execution_count": 10,
   "id": "2b105349",
   "metadata": {},
   "outputs": [
    {
     "name": "stdout",
     "output_type": "stream",
     "text": [
      "Mean: 1.1538461538461537\n",
      "Variance: 0.556750941366326\n"
     ]
    }
   ],
   "source": [
    "mean, var = f_distribution_mean_var(10, 15)\n",
    "print('Mean:', mean)\n",
    "print('Variance:', var)"
   ]
  },
  {
   "cell_type": "code",
   "execution_count": null,
   "id": "82cf15f1",
   "metadata": {},
   "outputs": [],
   "source": []
  },
  {
   "cell_type": "markdown",
   "id": "e408c338",
   "metadata": {},
   "source": [
    "### Q7. A random sample of 10 measurements is taken from a normal population with unknown variance. The sample variance is found to be 25. Another random sample of 15 measurements is taken from another normal population with unknown variance, and the sample variance is found to be 20. Conduct an F-test at the 10% significance level to determine if the variances are significantly different."
   ]
  },
  {
   "cell_type": "markdown",
   "id": "7dbcaa8c",
   "metadata": {},
   "source": [
    "To conduct an F-test at the 10% significance level to determine if the variances are significantly different, we use the following null and alternative hypotheses:\n",
    "\n",
    "H0: The variances of the two populations are equal.\n",
    "Ha: The variances of the two populations are not equal.\n",
    "\n",
    "The F-test statistic is given by:\n",
    "\n",
    "F = s1^2 / s2^2\n",
    "\n",
    "where s1^2 and s2^2 are the sample variances from the two populations. Under the null hypothesis, this test statistic follows an F-distribution with degrees of freedom (df1, df2) = (n1-1, n2-1), where n1 and n2 are the sample sizes.\n",
    "\n",
    "At the 10% significance level with 9 and 14 degrees of freedom, the critical values of the F-distribution are 2.58 and 2.29 for the upper and lower tails, respectively.\n",
    "\n",
    "Using the given sample variances, we have:\n",
    "\n",
    "s1^2 = 25 and n1 = 10\n",
    "s2^2 = 20 and n2 = 15\n",
    "\n",
    "Thus, the F-test statistic is:\n",
    "\n",
    "F = s1^2 / s2^2 = 25 / 20 = 1.25\n",
    "\n",
    "Since 1.25 < 2.58 and 1.25 > 2.29, we fail to reject the null hypothesis at the 10% significance level. Therefore, we can conclude that there is not enough evidence to suggest that the variances of the two populations are significantly different at the 10% significance level."
   ]
  },
  {
   "cell_type": "code",
   "execution_count": null,
   "id": "f791a763",
   "metadata": {},
   "outputs": [],
   "source": []
  },
  {
   "cell_type": "markdown",
   "id": "f8191b60",
   "metadata": {},
   "source": [
    "### Q8. The following data represent the waiting times in minutes at two different restaurants on a Saturday night: Restaurant A: 24, 25, 28, 23, 22, 20, 27; Restaurant B: 31, 33, 35, 30, 32, 36. Conduct an F-test at the 5% significance level to determine if the variances are significantly different."
   ]
  },
  {
   "cell_type": "markdown",
   "id": "ef41ed0b",
   "metadata": {},
   "source": [
    "To conduct an F-test at the 5% significance level to determine if the variances of the waiting times at Restaurant A and B are significantly different, we use the following null and alternative hypotheses:\n",
    "\n",
    "H0: The variances of the waiting times at Restaurant A and B are equal.\n",
    "Ha: The variances of the waiting times at Restaurant A and B are not equal.\n",
    "\n",
    "The F-test statistic is given by:\n",
    "\n",
    "F = s1^2 / s2^2\n",
    "\n",
    "where s1^2 and s2^2 are the sample variances of the waiting times at Restaurant A and B, respectively. Under the null hypothesis, this test statistic follows an F-distribution with degrees of freedom (df1, df2) = (n1-1, n2-1), where n1 and n2 are the sample sizes.\n",
    "\n",
    "Using the given data, we have:\n",
    "\n",
    "n1 = 7 and s1^2 = 6.33 (calculated using the formula for sample variance)\n",
    "n2 = 6 and s2^2 = 4.00 (calculated using the formula for sample variance)\n",
    "\n",
    "Thus, the F-test statistic is:\n",
    "\n",
    "F = s1^2 / s2^2 = 6.33 / 4.00 = 1.58\n",
    "\n",
    "At the 5% significance level with 6 and 5 degrees of freedom, the critical values of the F-distribution are 5.14 and 3.98 for the upper and lower tails, respectively.\n",
    "\n",
    "Since 1.58 < 3.98, we fail to reject the null hypothesis at the 5% significance level. Therefore, we can conclude that there is not enough evidence to suggest that the variances of the waiting times at Restaurant A and B are significantly different at the 5% significance level."
   ]
  },
  {
   "cell_type": "code",
   "execution_count": null,
   "id": "8261c0c7",
   "metadata": {},
   "outputs": [],
   "source": []
  },
  {
   "cell_type": "markdown",
   "id": "d0c2e620",
   "metadata": {},
   "source": [
    "### Q9. The following data represent the test scores of two groups of students: Group A: 80, 85, 90, 92, 87, 83; Group B: 75, 78, 82, 79, 81, 84. Conduct an F-test at the 1% significance level to determine if the variances are significantly different."
   ]
  },
  {
   "cell_type": "markdown",
   "id": "9cf7ca7e",
   "metadata": {},
   "source": [
    "To conduct an F-test at the 1% significance level to determine if the variances of the test scores of Group A and B are significantly different, we use the following null and alternative hypotheses:\n",
    "\n",
    "H0: The variances of the test scores of Group A and B are equal.\n",
    "Ha: The variances of the test scores of Group A and B are not equal.\n",
    "\n",
    "The F-test statistic is given by:\n",
    "\n",
    "F = s1^2 / s2^2\n",
    "\n",
    "where s1^2 and s2^2 are the sample variances of the test scores of Group A and B, respectively. Under the null hypothesis, this test statistic follows an F-distribution with degrees of freedom (df1, df2) = (n1-1, n2-1), where n1 and n2 are the sample sizes.\n",
    "\n",
    "Using the given data, we have:\n",
    "\n",
    "n1 = 6 and s1^2 = 22.67 (calculated using the formula for sample variance)\n",
    "n2 = 6 and s2^2 = 5.60 (calculated using the formula for sample variance)\n",
    "\n",
    "Thus, the F-test statistic is:\n",
    "\n",
    "F = s1^2 / s2^2 = 22.67 / 5.60 = 4.03\n",
    "\n",
    "At the 1% significance level with 5 and 5 degrees of freedom, the critical values of the F-distribution are 7.71 and 0.16 for the upper and lower tails, respectively.\n",
    "\n",
    "Since 4.03 < 0.16, we fail to reject the null hypothesis at the 1% significance level. Therefore, we can conclude that there is not enough evidence to suggest that the variances of the test scores of Group A and B are significantly different at the 1% significance level.\n",
    "\n",
    "\n",
    "\n"
   ]
  },
  {
   "cell_type": "code",
   "execution_count": null,
   "id": "17053c4e",
   "metadata": {},
   "outputs": [],
   "source": []
  }
 ],
 "metadata": {
  "kernelspec": {
   "display_name": "Python 3 (ipykernel)",
   "language": "python",
   "name": "python3"
  },
  "language_info": {
   "codemirror_mode": {
    "name": "ipython",
    "version": 3
   },
   "file_extension": ".py",
   "mimetype": "text/x-python",
   "name": "python",
   "nbconvert_exporter": "python",
   "pygments_lexer": "ipython3",
   "version": "3.9.7"
  }
 },
 "nbformat": 4,
 "nbformat_minor": 5
}
